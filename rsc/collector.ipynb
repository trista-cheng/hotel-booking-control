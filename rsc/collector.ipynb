{
 "cells": [
  {
   "cell_type": "code",
   "execution_count": 11,
   "metadata": {},
   "outputs": [],
   "source": [
    "import configparser\n",
    "import numpy as np\n",
    "import pandas as pd\n",
    "\n",
    "from os.path import join\n",
    "from pathlib import Path"
   ]
  },
  {
   "cell_type": "code",
   "execution_count": 6,
   "metadata": {},
   "outputs": [
    {
     "data": {
      "text/plain": [
       "['scenarios.ini']"
      ]
     },
     "execution_count": 6,
     "metadata": {},
     "output_type": "execute_result"
    }
   ],
   "source": [
    "scenarios = configparser.ConfigParser()\n",
    "scenarios.read('scenarios.ini')\n",
    "\n"
   ]
  },
  {
   "cell_type": "markdown",
   "metadata": {},
   "source": [
    "# 小測資"
   ]
  },
  {
   "cell_type": "code",
   "execution_count": 9,
   "metadata": {},
   "outputs": [],
   "source": [
    "environments = []\n",
    "for agent in [0, 1]:\n",
    "    for res in [0, 1]:\n",
    "        environments.append(f\"overbooking_{res}__agent_cancel_{agent}\")"
   ]
  },
  {
   "cell_type": "code",
   "execution_count": 10,
   "metadata": {},
   "outputs": [],
   "source": [
    "\n",
    "for environ in environments:\n",
    "    for scenario in scenarios.sections():\n",
    "        scenario_setting = scenarios[scenario]\n",
    "        performance = pd.DataFrame()\n",
    "        for instance_id in range(10, 20):\n",
    "            if instance_id == 14:\n",
    "                tmp = pd.read_csv(join('history', '0628_small_14', 'solution_up', 'algo_0', \n",
    "                                       environ, scenario, '14_performance.csv'))\n",
    "            else:\n",
    "                tmp = pd.read_csv(join('history', '0624_small_2', 'solution_up', 'algo_0', \n",
    "                                       environ, scenario, f'{instance_id}_performance.csv'))\n",
    "            performance = pd.concat([performance, tmp], ignore_index=True)\n",
    "        \n",
    "        performance.to_csv(join('history', '0624_small_2', 'solution_up', 'algo_0', \n",
    "                                environ, scenario, 'performance.csv'))\n",
    "                \n"
   ]
  },
  {
   "cell_type": "code",
   "execution_count": 17,
   "metadata": {},
   "outputs": [],
   "source": [
    "for environ in environments:\n",
    "    for scenario in scenarios.sections():\n",
    "        scenario_setting = scenarios[scenario]\n",
    "        for method in ['algo_0', 'algo_1']:\n",
    "            performance = pd.DataFrame()\n",
    "            target_folder = join('history', '0701_small', 'solution_up', method, environ, scenario)\n",
    "            Path(target_folder).mkdir(exist_ok=True, parents=True)\n",
    "            for folder in ['0620_small_1', '0624_small_2', '0627_small_3']:\n",
    "                tmp = pd.read_csv(join('history', folder, 'solution_up', method, \n",
    "                                       environ, scenario, 'performance.csv'), index_col=0)\n",
    "                performance = pd.concat([performance, tmp], ignore_index=True)\n",
    "\n",
    "            performance.to_csv(join(target_folder, 'performance.csv'))\n",
    "                "
   ]
  },
  {
   "cell_type": "code",
   "execution_count": 2,
   "metadata": {},
   "outputs": [],
   "source": [
    "COMPETE_FOLDER_DICT = {\n",
    "    \"relax_gurobi\": join('history', 'updated', 'gurobi_solutions', 'up'),  # up_algo_False_relax_True\n",
    "    \"algo\": join('history', 'updated', 'algo_solutions', 'up'),  # up_algo_True_relax_False\n",
    "}\n",
    "\n",
    "\n"
   ]
  },
  {
   "cell_type": "code",
   "execution_count": 19,
   "metadata": {},
   "outputs": [],
   "source": [
    "rows = []\n",
    "for environ in environments:\n",
    "    for scenario in scenarios.sections():\n",
    "        scenario_setting = scenarios[scenario]\n",
    "        for name in COMPETE_FOLDER_DICT:\n",
    "            gurobi_sol = pd.read_csv(join(\n",
    "                COMPETE_FOLDER_DICT['relax_gurobi'], \n",
    "                environ, \n",
    "                scenario, \n",
    "                'time_obj.csv'\n",
    "            )).to_numpy()\n",
    "            algo_sol = pd.read_csv(join(\n",
    "                COMPETE_FOLDER_DICT['algo'], \n",
    "                environ, \n",
    "                scenario, \n",
    "                'time_obj.csv'\n",
    "            )).to_numpy()\n",
    "            rows.append([\n",
    "                environ.split('_')[1], environ.split('_')[3],\n",
    "                scenario_setting['ind_demand_mul'], \n",
    "                np.array(scenario_setting['room_rate'][1:-1].split()).argmax(),\n",
    "                *(algo_sol / gurobi_sol).mean(axis=0),\n",
    "                gurobi_sol[:, 1].mean(), algo_sol[:, 1].mean()\n",
    "            ])\n",
    "            \n",
    "result = pd.DataFrame(rows, columns=['agent cancel', 'capacity reservation', \n",
    "                            'IND demand', 'high room', 'time ratio', \n",
    "                            'obj ratio', 'gurobi_obj', 'algo_obj'])\n",
    "            "
   ]
  },
  {
   "cell_type": "code",
   "execution_count": 21,
   "metadata": {},
   "outputs": [],
   "source": [
    "result.to_csv('test.csv', index=False)\n"
   ]
  },
  {
   "cell_type": "code",
   "execution_count": 10,
   "metadata": {},
   "outputs": [
    {
     "data": {
      "text/plain": [
       "array([[1.08741010e+00, 2.76813063e+05],\n",
       "       [1.10361300e+00, 2.06584269e+05],\n",
       "       [1.05680830e+00, 2.19181851e+05],\n",
       "       [9.70672900e-01, 1.14627780e+05],\n",
       "       [1.03697910e+00, 1.83110404e+05]])"
      ]
     },
     "execution_count": 10,
     "metadata": {},
     "output_type": "execute_result"
    }
   ],
   "source": [
    "algo_sol"
   ]
  },
  {
   "cell_type": "code",
   "execution_count": null,
   "metadata": {},
   "outputs": [],
   "source": []
  }
 ],
 "metadata": {
  "interpreter": {
   "hash": "c7df68efccd5cc7302fb48e8ce7a9ccc6b17ec48e33f5a79bf9a6b513408db60"
  },
  "kernelspec": {
   "display_name": "Python 3 (ipykernel)",
   "language": "python",
   "name": "python3"
  },
  "language_info": {
   "codemirror_mode": {
    "name": "ipython",
    "version": 3
   },
   "file_extension": ".py",
   "mimetype": "text/x-python",
   "name": "python",
   "nbconvert_exporter": "python",
   "pygments_lexer": "ipython3",
   "version": "3.9.7"
  }
 },
 "nbformat": 4,
 "nbformat_minor": 4
}
