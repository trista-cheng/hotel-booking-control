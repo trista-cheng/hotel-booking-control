{
 "cells": [
  {
   "cell_type": "code",
   "execution_count": 48,
   "metadata": {},
   "outputs": [],
   "source": [
    "import configparser\n",
    "import pandas as pd\n",
    "import numpy as np\n",
    "\n",
    "from os.path import join\n",
    "from itertools import product\n",
    "from scipy.stats import binom\n",
    "\n",
    "from solver import Solver"
   ]
  },
  {
   "cell_type": "code",
   "execution_count": 9,
   "metadata": {},
   "outputs": [],
   "source": [
    "ROOT = ''\n",
    "\n",
    "SCENARIOS = configparser.ConfigParser()\n",
    "SCENARIOS.read(join(ROOT, 'scenarios.ini'))\n",
    "scenario_name = \"stay_075__room_1__ind_05\"\n",
    "instance_id = 4\n",
    "\n",
    "UPGRADE_RULE = 'up'\n",
    "algo_on = 0\n",
    "with_capacity_reservation = 0\n",
    "with_agent_cancel = 0\n",
    "solution_dir = (f\"solution_{UPGRADE_RULE}/algo_{algo_on}/\"\n",
    "                f\"overbooking_{with_capacity_reservation}__\"\n",
    "                f\"agent_cancel_{with_agent_cancel}\")\n",
    "solution_dir = join(ROOT, solution_dir, scenario_name)\n",
    "\n",
    "NUM_TYPE = 2\n",
    "TIME_SPAN_LEN = 6\n",
    "DEMAND_UB = np.array([20, 10])"
   ]
  },
  {
   "cell_type": "code",
   "execution_count": 32,
   "metadata": {},
   "outputs": [],
   "source": [
    "g_reservation = pd.read_csv(join(solution_dir, f'{instance_id}_revservation.csv'))\n",
    "g_valid_res = pd.read_csv(join(solution_dir, f'{instance_id}_ind_valid.csv'))\n",
    "order_acceptance = pd.read_csv(join(solution_dir, f'{instance_id}_acceptance.csv'),\n",
    "                               index_col=0).to_numpy().flatten()\n",
    "upgrade_df = pd.read_csv(join(solution_dir, f'{instance_id}_upgrade.csv'))"
   ]
  },
  {
   "cell_type": "code",
   "execution_count": 91,
   "metadata": {},
   "outputs": [],
   "source": [
    "g_valid_res\n",
    "g_valid_np = np.zeros((NUM_TYPE, TIME_SPAN_LEN, 21, 21))\n",
    "for i, v in g_valid_res.iterrows():\n",
    "    g_valid_np[int(v['room type']-1), int(v['time']-1), int(v['demand ID']-1),\n",
    "               int(v['reservation ID']-1)] = v['valid']"
   ]
  },
  {
   "cell_type": "code",
   "execution_count": 11,
   "metadata": {},
   "outputs": [],
   "source": [
    "g_res_np = np.zeros((NUM_TYPE, TIME_SPAN_LEN, DEMAND_UB.max() + 1))\n",
    "for i, v in g_reservation.iterrows():\n",
    "    g_res_np[int(v.room - 1), int(v.time - 1), int(v.demand_ID - 1)] = v.rev"
   ]
  },
  {
   "cell_type": "code",
   "execution_count": 17,
   "metadata": {},
   "outputs": [],
   "source": [
    "g_upgrade_np = np.zeros((4, NUM_TYPE, NUM_TYPE))\n",
    "for i, v in upgrade_df.iterrows():\n",
    "    g_upgrade_np[int(v.order - 1), int(v['from type'] - 1), int(v['to type'] - 1)] = v['upgrade amount']"
   ]
  },
  {
   "cell_type": "code",
   "execution_count": 19,
   "metadata": {},
   "outputs": [],
   "source": [
    "NUM_ORDER = 4"
   ]
  },
  {
   "cell_type": "code",
   "execution_count": 21,
   "metadata": {},
   "outputs": [],
   "source": [
    "solver = Solver(\n",
    "    SCENARIOS[scenario_name],\n",
    "    instance_id,\n",
    "    UPGRADE_RULE,\n",
    "    with_agent_cancel=with_agent_cancel,\n",
    "    with_capacity_reservation=with_capacity_reservation,\n",
    "    with_ind_cancel=1,\n",
    "    data_root='data'\n",
    ")"
   ]
  },
  {
   "cell_type": "code",
   "execution_count": 39,
   "metadata": {},
   "outputs": [],
   "source": [
    "upgrade_diff = (\n",
    "    np.dot(g_upgrade_np, -np.ones((NUM_TYPE, 1))).reshape(\n",
    "        (NUM_ORDER, NUM_TYPE)\n",
    "    ) +\n",
    "    np.dot(np.ones(NUM_TYPE), g_upgrade_np).reshape(\n",
    "        (NUM_ORDER, NUM_TYPE)\n",
    "    )\n",
    ")\n",
    "acc_order_msk = np.where(order_acceptance == 1)[0]\n",
    "# order x room\n",
    "acc_order_room = solver.agent_order_room_quantity + upgrade_diff\n",
    "acc_order_room = acc_order_room[acc_order_msk]\n",
    "acc_order_stay = solver.agent_order_stay[acc_order_msk]\n",
    "# room x time\n",
    "agent_det_agg_consump = np.dot(\n",
    "    acc_order_room.T,\n",
    "    acc_order_stay\n",
    ")\n",
    "\n",
    "acc_order_req = acc_order_room[:, :, np.newaxis] * \\\n",
    "    acc_order_stay[: ,np.newaxis, :]\n",
    "acc_order_cancel_rate = solver.agent_cancel_rate[acc_order_msk]"
   ]
  },
  {
   "cell_type": "code",
   "execution_count": 42,
   "metadata": {},
   "outputs": [],
   "source": [
    "acc_order_upgrade_profit = (\n",
    "    g_upgrade_np * solver.upgrade_fee *\n",
    "    solver.agent_order_stay.sum(axis=1).reshape(solver.num_order, 1, 1)\n",
    ").sum(axis=(1, 2))[acc_order_msk]\n",
    "acc_order_price = solver.agent_order_price[acc_order_msk]"
   ]
  },
  {
   "cell_type": "code",
   "execution_count": 44,
   "metadata": {},
   "outputs": [],
   "source": [
    "ind_rev_id_ub = solver.individual_demand_pmf.shape[2]\n",
    "if not solver.with_capacity_reservation:\n",
    "    left_vac = solver.capacity - agent_det_agg_consump\n",
    "    left_vac[left_vac < 0] = 0\n",
    "    reservation = np.minimum(\n",
    "        np.repeat(\n",
    "            left_vac[:, :, np.newaxis],\n",
    "            ind_rev_id_ub,\n",
    "            axis=2\n",
    "        ),\n",
    "        np.resize(\n",
    "            np.arange(ind_rev_id_ub),\n",
    "            solver.individual_demand_pmf.shape\n",
    "        )\n",
    "    )"
   ]
  },
  {
   "cell_type": "code",
   "execution_count": 46,
   "metadata": {},
   "outputs": [],
   "source": [
    "reservation[0, :, 21:] = 0\n",
    "reservation[1, :, 11:] = 0"
   ]
  },
  {
   "cell_type": "code",
   "execution_count": 123,
   "metadata": {},
   "outputs": [
    {
     "data": {
      "text/plain": [
       "True"
      ]
     },
     "execution_count": 123,
     "metadata": {},
     "output_type": "execute_result"
    }
   ],
   "source": [
    "np.allclose(g_res_np, reservation)"
   ]
  },
  {
   "cell_type": "code",
   "execution_count": 160,
   "metadata": {},
   "outputs": [],
   "source": [
    "ind_profit = 0\n",
    "for room_type, time_id, in product(\n",
    "    range(solver.num_type), range(solver.time_span_len),\n",
    "):\n",
    "    for outcome_id in range(solver.demand_ub[room_type] + 1):\n",
    "        ind_arrival = np.round(reservation[room_type, time_id, outcome_id])\n",
    "        ind_arrival_prob = solver.individual_demand_pmf[\n",
    "            room_type, time_id, outcome_id\n",
    "        ]\n",
    "        if (ind_arrival_prob == 0):\n",
    "            continue  # invalid outcome or no need to count\n",
    "            # should not run to this block\n",
    "\n",
    "        # individual profit would be zero without arrival\n",
    "        # however compensation should count\n",
    "        # if ind_arrival != 0:\n",
    "        ind_cancel_probs = binom.pmf(\n",
    "            np.arange(ind_arrival + 1),\n",
    "            ind_arrival,\n",
    "            solver.individual_cancel_rate[room_type]\n",
    "        )\n",
    "        ind_real = ind_arrival + np.dot(- np.arange(ind_arrival + 1),\n",
    "                                        ind_cancel_probs)\n",
    "        ind_profit += (\n",
    "            ind_arrival_prob *\n",
    "            ind_real *\n",
    "            solver.individual_room_price[room_type]\n",
    "        )"
   ]
  },
  {
   "cell_type": "code",
   "execution_count": 73,
   "metadata": {},
   "outputs": [
    {
     "data": {
      "text/plain": [
       "array([0.5625, 0.375 , 0.0625])"
      ]
     },
     "execution_count": 73,
     "metadata": {},
     "output_type": "execute_result"
    }
   ],
   "source": [
    "binom.pmf(\n",
    "            np.arange(1.9999999999997762 + 1),\n",
    "            2,\n",
    "            solver.individual_cancel_rate[0]\n",
    "        )"
   ]
  },
  {
   "cell_type": "code",
   "execution_count": 72,
   "metadata": {},
   "outputs": [
    {
     "data": {
      "text/plain": [
       "0.9375"
      ]
     },
     "execution_count": 72,
     "metadata": {},
     "output_type": "execute_result"
    }
   ],
   "source": [
    "0.5625 +  0.375"
   ]
  },
  {
   "cell_type": "code",
   "execution_count": 161,
   "metadata": {},
   "outputs": [
    {
     "data": {
      "text/plain": [
       "54518.352603981606"
      ]
     },
     "execution_count": 161,
     "metadata": {},
     "output_type": "execute_result"
    }
   ],
   "source": [
    "ind_profit"
   ]
  },
  {
   "cell_type": "code",
   "execution_count": 129,
   "metadata": {},
   "outputs": [
    {
     "data": {
      "text/plain": [
       "55641.88195158211"
      ]
     },
     "execution_count": 129,
     "metadata": {},
     "output_type": "execute_result"
    }
   ],
   "source": [
    "ind_profit"
   ]
  },
  {
   "cell_type": "code",
   "execution_count": 162,
   "metadata": {},
   "outputs": [
    {
     "data": {
      "text/plain": [
       "1123.5293476005027"
      ]
     },
     "execution_count": 162,
     "metadata": {},
     "output_type": "execute_result"
    }
   ],
   "source": [
    "55641.88195158211 - 54518.352603981606"
   ]
  },
  {
   "cell_type": "code",
   "execution_count": 67,
   "metadata": {},
   "outputs": [
    {
     "data": {
      "text/plain": [
       "349796.2852060675"
      ]
     },
     "execution_count": 67,
     "metadata": {},
     "output_type": "execute_result"
    }
   ],
   "source": [
    "ind_profit + acc_order_price.sum() + acc_order_upgrade_profit.sum()"
   ]
  },
  {
   "cell_type": "code",
   "execution_count": 68,
   "metadata": {},
   "outputs": [
    {
     "data": {
      "text/plain": [
       "1123.529306067503"
      ]
     },
     "execution_count": 68,
     "metadata": {},
     "output_type": "execute_result"
    }
   ],
   "source": [
    "349796.2852060675 - 348672.7559"
   ]
  },
  {
   "cell_type": "code",
   "execution_count": 56,
   "metadata": {},
   "outputs": [
    {
     "data": {
      "text/plain": [
       "True"
      ]
     },
     "execution_count": 56,
     "metadata": {},
     "output_type": "execute_result"
    }
   ],
   "source": [
    "np.allclose(g_res_np, reservation)"
   ]
  },
  {
   "cell_type": "code",
   "execution_count": 156,
   "metadata": {},
   "outputs": [],
   "source": [
    "g_ind_profit = 0\n",
    "for room_type, t, demand_id in \\\n",
    "    product(np.arange(NUM_TYPE), range(TIME_SPAN_LEN), range(21)):\n",
    "    for reservation_id in range(demand_id + 1):\n",
    "        tmp = 0\n",
    "        for cancel_val in range(reservation_id + 1):\n",
    "            tmp += binom.pmf(\n",
    "                cancel_val,\n",
    "                reservation_id,\n",
    "                solver.individual_cancel_rate[room_type]\n",
    "            ) * (reservation_id - cancel_val) * solver.individual_room_price[room_type]\n",
    "        g_ind_profit += (\n",
    "            solver.individual_demand_pmf[room_type][t][demand_id] *\n",
    "            g_valid_np[room_type, t, demand_id, reservation_id] * tmp\n",
    "        )"
   ]
  },
  {
   "cell_type": "code",
   "execution_count": 155,
   "metadata": {},
   "outputs": [],
   "source": [
    "valid = np.zeros((NUM_TYPE, TIME_SPAN_LEN, 21, 21))\n",
    "for room_type, t, demand_id in \\\n",
    "    product(np.arange(NUM_TYPE), range(TIME_SPAN_LEN), range(21)):\n",
    "        valid[room_type, t, demand_id, int(np.round(reservation[room_type, t, demand_id]))] = 1\n"
   ]
  },
  {
   "cell_type": "code",
   "execution_count": 149,
   "metadata": {},
   "outputs": [
    {
     "data": {
      "text/plain": [
       "False"
      ]
     },
     "execution_count": 149,
     "metadata": {},
     "output_type": "execute_result"
    }
   ],
   "source": [
    "np.allclose(valid, g_valid_np)"
   ]
  },
  {
   "cell_type": "code",
   "execution_count": 153,
   "metadata": {},
   "outputs": [
    {
     "data": {
      "text/plain": [
       "array([0., 0., 0., 0., 0., 0., 0., 0., 0., 0., 0., 0., 0., 0., 0., 0., 0.,\n",
       "       0., 0., 0., 0.])"
      ]
     },
     "execution_count": 153,
     "metadata": {},
     "output_type": "execute_result"
    }
   ],
   "source": [
    "g_valid_np[1, 0, 11]"
   ]
  },
  {
   "cell_type": "code",
   "execution_count": 154,
   "metadata": {},
   "outputs": [
    {
     "data": {
      "text/plain": [
       "array([1., 0., 0., 0., 0., 0., 0., 0., 0., 0., 0., 0., 0., 0., 0., 0., 0.,\n",
       "       0., 0., 0., 0.])"
      ]
     },
     "execution_count": 154,
     "metadata": {},
     "output_type": "execute_result"
    }
   ],
   "source": [
    "valid[1, 0, 11]"
   ]
  },
  {
   "cell_type": "code",
   "execution_count": 157,
   "metadata": {},
   "outputs": [
    {
     "data": {
      "text/plain": [
       "62136.43573311961"
      ]
     },
     "execution_count": 157,
     "metadata": {},
     "output_type": "execute_result"
    }
   ],
   "source": [
    "g_ind_profit"
   ]
  },
  {
   "cell_type": "code",
   "execution_count": 144,
   "metadata": {},
   "outputs": [
    {
     "data": {
      "text/plain": [
       "(array([1, 1, 1, 1, 1, 1, 1, 1, 1, 1, 1, 1, 1, 1, 1, 1, 1, 1, 1, 1, 1, 1,\n",
       "        1, 1, 1, 1, 1, 1, 1, 1, 1, 1, 1, 1, 1, 1, 1, 1, 1, 1, 1, 1, 1, 1,\n",
       "        1, 1, 1, 1, 1, 1, 1, 1, 1, 1, 1, 1, 1, 1, 1, 1], dtype=int64),\n",
       " array([0, 0, 0, 0, 0, 0, 0, 0, 0, 0, 1, 1, 1, 1, 1, 1, 1, 1, 1, 1, 2, 2,\n",
       "        2, 2, 2, 2, 2, 2, 2, 2, 3, 3, 3, 3, 3, 3, 3, 3, 3, 3, 4, 4, 4, 4,\n",
       "        4, 4, 4, 4, 4, 4, 5, 5, 5, 5, 5, 5, 5, 5, 5, 5], dtype=int64),\n",
       " array([11, 12, 13, 14, 15, 16, 17, 18, 19, 20, 11, 12, 13, 14, 15, 16, 17,\n",
       "        18, 19, 20, 11, 12, 13, 14, 15, 16, 17, 18, 19, 20, 11, 12, 13, 14,\n",
       "        15, 16, 17, 18, 19, 20, 11, 12, 13, 14, 15, 16, 17, 18, 19, 20, 11,\n",
       "        12, 13, 14, 15, 16, 17, 18, 19, 20], dtype=int64),\n",
       " array([0, 0, 0, 0, 0, 0, 0, 0, 0, 0, 0, 0, 0, 0, 0, 0, 0, 0, 0, 0, 0, 0,\n",
       "        0, 0, 0, 0, 0, 0, 0, 0, 0, 0, 0, 0, 0, 0, 0, 0, 0, 0, 0, 0, 0, 0,\n",
       "        0, 0, 0, 0, 0, 0, 0, 0, 0, 0, 0, 0, 0, 0, 0, 0], dtype=int64))"
      ]
     },
     "execution_count": 144,
     "metadata": {},
     "output_type": "execute_result"
    }
   ],
   "source": [
    "np.where(valid != g_valid_np)"
   ]
  },
  {
   "cell_type": "code",
   "execution_count": 126,
   "metadata": {},
   "outputs": [
    {
     "data": {
      "text/plain": [
       "54518.352603981606"
      ]
     },
     "execution_count": 126,
     "metadata": {},
     "output_type": "execute_result"
    }
   ],
   "source": [
    "g_ind_profit"
   ]
  },
  {
   "cell_type": "code",
   "execution_count": 130,
   "metadata": {},
   "outputs": [
    {
     "data": {
      "text/plain": [
       "1123.5293476005027"
      ]
     },
     "execution_count": 130,
     "metadata": {},
     "output_type": "execute_result"
    }
   ],
   "source": [
    "55641.88195158211 - 54518.352603981606"
   ]
  },
  {
   "cell_type": "code",
   "execution_count": 127,
   "metadata": {},
   "outputs": [
    {
     "data": {
      "text/plain": [
       "55146.30662831318"
      ]
     },
     "execution_count": 127,
     "metadata": {},
     "output_type": "execute_result"
    }
   ],
   "source": [
    "ind_profit"
   ]
  },
  {
   "cell_type": "code",
   "execution_count": 122,
   "metadata": {},
   "outputs": [
    {
     "data": {
      "text/plain": [
       "1.9999999999997762"
      ]
     },
     "execution_count": 122,
     "metadata": {},
     "output_type": "execute_result"
    }
   ],
   "source": [
    "reservation[np.where(g_res_np > reservation)][0]"
   ]
  },
  {
   "cell_type": "code",
   "execution_count": 121,
   "metadata": {},
   "outputs": [
    {
     "data": {
      "text/plain": [
       "2.0"
      ]
     },
     "execution_count": 121,
     "metadata": {},
     "output_type": "execute_result"
    }
   ],
   "source": [
    "g_res_np[np.where(g_res_np > reservation)][0]"
   ]
  },
  {
   "cell_type": "code",
   "execution_count": 52,
   "metadata": {},
   "outputs": [
    {
     "data": {
      "text/plain": [
       "627.9539827986155"
      ]
     },
     "execution_count": 52,
     "metadata": {},
     "output_type": "execute_result"
    }
   ],
   "source": [
    "349300.7098827986 - 348672.7559\n"
   ]
  },
  {
   "cell_type": "code",
   "execution_count": null,
   "metadata": {},
   "outputs": [],
   "source": [
    "1123.5293476005318"
   ]
  }
 ],
 "metadata": {
  "kernelspec": {
   "display_name": "Python 3.8.12 ('paper')",
   "language": "python",
   "name": "python3"
  },
  "language_info": {
   "codemirror_mode": {
    "name": "ipython",
    "version": 3
   },
   "file_extension": ".py",
   "mimetype": "text/x-python",
   "name": "python",
   "nbconvert_exporter": "python",
   "pygments_lexer": "ipython3",
   "version": "3.8.12"
  },
  "orig_nbformat": 4,
  "vscode": {
   "interpreter": {
    "hash": "c7df68efccd5cc7302fb48e8ce7a9ccc6b17ec48e33f5a79bf9a6b513408db60"
   }
  }
 },
 "nbformat": 4,
 "nbformat_minor": 2
}
